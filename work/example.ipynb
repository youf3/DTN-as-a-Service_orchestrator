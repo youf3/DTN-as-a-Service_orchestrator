{
 "cells": [
  {
   "cell_type": "markdown",
   "id": "da0f2d5c",
   "metadata": {},
   "source": [
    "# DTN Orchestrator class example\n",
    "\n",
    "This notebook demonstrates interacting with the DTN orchestrator."
   ]
  },
  {
   "cell_type": "code",
   "execution_count": 8,
   "id": "7266bec9",
   "metadata": {},
   "outputs": [
    {
     "data": {
      "text/plain": [
       "'OK'"
      ]
     },
     "execution_count": 8,
     "metadata": {},
     "output_type": "execute_result"
    }
   ],
   "source": [
    "from dtn_orchestrator.client import DTNOrchestratorClient\n",
    "# initialize client and run a connectivity/backend check\n",
    "client = DTNOrchestratorClient()\n",
    "client.check()"
   ]
  },
  {
   "cell_type": "code",
   "execution_count": 7,
   "id": "99af8501",
   "metadata": {},
   "outputs": [
    {
     "name": "stdout",
     "output_type": "stream",
     "text": [
      "test\n"
     ]
    }
   ],
   "source": [
    "# get an existing DTN and check its name\n",
    "dtn = client.get_dtn(1)\n",
    "print(dtn.name)"
   ]
  },
  {
   "cell_type": "code",
   "execution_count": 9,
   "id": "a2f7f8e2",
   "metadata": {},
   "outputs": [
    {
     "data": {
      "text/plain": [
       "[]"
      ]
     },
     "execution_count": 9,
     "metadata": {},
     "output_type": "execute_result"
    }
   ],
   "source": [
    "# get a list of transfers\n",
    "client.get_transfers()"
   ]
  }
 ],
 "metadata": {
  "kernelspec": {
   "display_name": "Python 3 (ipykernel)",
   "language": "python",
   "name": "python3"
  },
  "language_info": {
   "codemirror_mode": {
    "name": "ipython",
    "version": 3
   },
   "file_extension": ".py",
   "mimetype": "text/x-python",
   "name": "python",
   "nbconvert_exporter": "python",
   "pygments_lexer": "ipython3",
   "version": "3.9.6"
  }
 },
 "nbformat": 4,
 "nbformat_minor": 5
}
