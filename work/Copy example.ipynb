{
 "cells": [
  {
   "cell_type": "markdown",
   "id": "5f39a23e",
   "metadata": {},
   "source": [
    "# DTN Transfers over NVMEoF\n",
    "\n",
    "This notebook demonstrates a copy from one DTN to another DTN."
   ]
  },
  {
   "cell_type": "code",
   "execution_count": null,
   "id": "ab2c6cdb",
   "metadata": {},
   "outputs": [],
   "source": [
    "# initialize client and run a connectivity check to the orchestrator container\n",
    "from dtn_orchestrator.client import DTNOrchestratorClient\n",
    "client = DTNOrchestratorClient()\n",
    "client.check()"
   ]
  },
  {
   "cell_type": "code",
   "execution_count": null,
   "id": "075468a4",
   "metadata": {},
   "outputs": [],
   "source": [
    "# Optional - get documentation for using the orchestrator client\n",
    "help(client)"
   ]
  },
  {
   "cell_type": "code",
   "execution_count": null,
   "id": "729368c5",
   "metadata": {},
   "outputs": [],
   "source": [
    "# register DTNs with their management address - this will reuse existing objects if they're already registered\n",
    "# sender DTN\n",
    "dtn1 = client.register_dtn('<ip1>:5000')\n",
    "# receiver DTN\n",
    "dtn2 = client.register_dtn('<ip2>:5000')"
   ]
  },
  {
   "cell_type": "code",
   "execution_count": null,
   "id": "dc6ea9d8",
   "metadata": {},
   "outputs": [],
   "source": [
    "# Run latency between DTNs to test connectivity\n",
    "print(dtn1.ping(dtn2.id))\n",
    "print(dtn2.ping(dtn1.id))"
   ]
  },
  {
   "cell_type": "code",
   "execution_count": null,
   "id": "fc93e5e1",
   "metadata": {},
   "outputs": [],
   "source": [
    "# Set up a connection between DTNs - this provides an object that can be used to start the transfer\n",
    "conn = client.setup_connection(dtn1, dtn2, tool=\"nuttcp\")"
   ]
  },
  {
   "cell_type": "code",
   "execution_count": null,
   "id": "cfbd8121",
   "metadata": {},
   "outputs": [],
   "source": [
    "# Optional - get documentation for using the connection object\n",
    "help(conn)"
   ]
  },
  {
   "cell_type": "code",
   "execution_count": null,
   "id": "84fefbba",
   "metadata": {},
   "outputs": [],
   "source": [
    "# Get a list of files on each DTN\n",
    "print([f['name'] for f in dtn1.files() if f['type'] == 'file'])\n",
    "print([f['name'] for f in dtn2.files() if f['type'] == 'file'])"
   ]
  },
  {
   "cell_type": "code",
   "execution_count": null,
   "id": "7b18d933",
   "metadata": {},
   "outputs": [],
   "source": [
    "# Copy a directory on DTN1 to an empty directory on DTN2 \n",
    "# - \"limit\" can also be passed to limit the number of files copied\n",
    "result = conn.copy('src', 'dst')\n",
    "print(result)"
   ]
  },
  {
   "cell_type": "code",
   "execution_count": null,
   "id": "e87244cd",
   "metadata": {},
   "outputs": [],
   "source": [
    "# Periodically get the status of the transfer, and stop when the transfer is complete\n",
    "import time\n",
    "finished = False\n",
    "while not finished:\n",
    "    status = conn.status()\n",
    "    print(status)\n",
    "    finished = status.get('Unfinished') == 0\n",
    "    time.sleep(30)\n",
    "# now finish the connection so we can get transfer statistics\n",
    "conn.finish()"
   ]
  },
  {
   "cell_type": "code",
   "execution_count": null,
   "id": "0f5c9ef6",
   "metadata": {},
   "outputs": [],
   "source": [
    "# Get transfer statistics - start time, data transferred, number of files copied, etc.\n",
    "conn.get()"
   ]
  }
 ],
 "metadata": {
  "kernelspec": {
   "display_name": "Python 3 (ipykernel)",
   "language": "python",
   "name": "python3"
  },
  "language_info": {
   "codemirror_mode": {
    "name": "ipython",
    "version": 3
   },
   "file_extension": ".py",
   "mimetype": "text/x-python",
   "name": "python",
   "nbconvert_exporter": "python",
   "pygments_lexer": "ipython3",
   "version": "3.8.10"
  }
 },
 "nbformat": 4,
 "nbformat_minor": 5
}
