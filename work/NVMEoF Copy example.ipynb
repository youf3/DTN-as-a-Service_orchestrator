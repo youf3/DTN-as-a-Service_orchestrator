{
 "cells": [
  {
   "cell_type": "markdown",
   "id": "947f5c98",
   "metadata": {},
   "source": [
    "# DTN Transfers over NVMEoF\n",
    "\n",
    "This notebook demonstrates a copy from one DTN to another DTN using NVME over fabric (NVMEoF).\n",
    "Current limitations:\n",
    "- Only single NMVE drives are supported at this time - mdraid support is in progress\n",
    "- For each NVME drive, only one partition is supported at this time - if there are multiple partitions only the first will be used"
   ]
  },
  {
   "cell_type": "code",
   "execution_count": null,
   "id": "cd49f34f",
   "metadata": {},
   "outputs": [],
   "source": [
    "# initialize client and run a connectivity check to the orchestrator container\n",
    "from dtn_orchestrator.client import DTNOrchestratorClient\n",
    "client = DTNOrchestratorClient()\n",
    "client.check()"
   ]
  },
  {
   "cell_type": "code",
   "execution_count": null,
   "id": "7d335728",
   "metadata": {},
   "outputs": [],
   "source": [
    "# register DTNs with their management address - this will reuse existing objects if they're already registered\n",
    "# sender DTN\n",
    "dtn1 = client.register_dtn('<ip1>:5000')\n",
    "# receiver DTN\n",
    "dtn2 = client.register_dtn('<ip2>:5000')"
   ]
  },
  {
   "cell_type": "code",
   "execution_count": null,
   "id": "d41a70c5",
   "metadata": {},
   "outputs": [],
   "source": [
    "# Run latency between DTNs to test connectivity\n",
    "print(dtn1.ping(dtn2.id))\n",
    "print(dtn2.ping(dtn1.id))"
   ]
  },
  {
   "cell_type": "code",
   "execution_count": null,
   "id": "b3fefd9f",
   "metadata": {},
   "outputs": [],
   "source": [
    "# Set up NVMEoF connection between DTNs - dtn1's drive will be accessed/mounted on dtn2\n",
    "conn = client.setup_nvmeof(dtn1, dtn2)\n",
    "# At this point DTN1's drive shows up on DTN2 - use 'nvme list' in dtn2's agent container to verify"
   ]
  },
  {
   "cell_type": "code",
   "execution_count": null,
   "id": "e34c7c8c",
   "metadata": {},
   "outputs": [],
   "source": [
    "# Get a list of files on each DTN\n",
    "print([f['name'] for f in dtn1.files() if f['type'] == 'file'])\n",
    "print([f['name'] for f in dtn2.files() if f['type'] == 'file'])"
   ]
  },
  {
   "cell_type": "code",
   "execution_count": null,
   "id": "4c507784",
   "metadata": {},
   "outputs": [],
   "source": [
    "# Copy the first file found on DTN1 to the first (hopefully empty) file on DTN2\n",
    "# This is done with dd on dtn2 only\n",
    "result = conn.copy([dtn1.files()[0]['name']], [dtn2.files()[0]['name']])\n",
    "print(result.get('transfer'))"
   ]
  },
  {
   "cell_type": "code",
   "execution_count": null,
   "id": "78d51908",
   "metadata": {},
   "outputs": [],
   "source": [
    "# Get transfer status from the orchestrator\n",
    "client.get_transfer(result['transfer'])"
   ]
  },
  {
   "cell_type": "code",
   "execution_count": null,
   "id": "0ec6de16",
   "metadata": {},
   "outputs": [],
   "source": [
    "# Unmount remote drive and shutdown the NVMEoF connection\n",
    "conn.disconnect()\n",
    "# note: for future connections to work dtn1's NVME ports may need to be cleared manually.\n",
    "# If this is the case run 'nvmetcli clear' to reset"
   ]
  }
 ],
 "metadata": {
  "kernelspec": {
   "display_name": "Python 3 (ipykernel)",
   "language": "python",
   "name": "python3"
  },
  "language_info": {
   "codemirror_mode": {
    "name": "ipython",
    "version": 3
   },
   "file_extension": ".py",
   "mimetype": "text/x-python",
   "name": "python",
   "nbconvert_exporter": "python",
   "pygments_lexer": "ipython3",
   "version": "3.9.6"
  }
 },
 "nbformat": 4,
 "nbformat_minor": 5
}
